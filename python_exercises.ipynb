{
 "cells": [
  {
   "cell_type": "code",
   "execution_count": 7,
   "metadata": {},
   "outputs": [
    {
     "name": "stdout",
     "output_type": "stream",
     "text": [
      "Welcome to the Band Name Generator.\n",
      "Your band name could be Barcelona Cotton\n"
     ]
    }
   ],
   "source": [
    "#Finding a band name exercise\n",
    "\n",
    "print('Welcome to the Band Name Generator.')\n",
    "city = input(\"What's name of the city you grew up in?\\n\")\n",
    "pet_name = input(\"What's your pet's name?\\n\")\n",
    "print('Your band name could be ' + city + ' ' + pet_name)"
   ]
  },
  {
   "cell_type": "code",
   "execution_count": 2,
   "metadata": {},
   "outputs": [
    {
     "name": "stdout",
     "output_type": "stream",
     "text": [
      "8\n"
     ]
    }
   ],
   "source": [
    "#Adding up digits\n",
    "\n",
    "number = input('Please enter 2 digit number: ')\n",
    "print(int(number[0]) + int(number[1]))"
   ]
  },
  {
   "cell_type": "code",
   "execution_count": 4,
   "metadata": {},
   "outputs": [
    {
     "name": "stdout",
     "output_type": "stream",
     "text": [
      "25\n"
     ]
    }
   ],
   "source": [
    "#Calculating BMI index\n",
    "\n",
    "weight = int(input('Enter your weight: '))\n",
    "height = float(input('Enter your height: '))\n",
    "\n",
    "BMI = weight/height**2\n",
    "\n",
    "print(round(BMI))"
   ]
  },
  {
   "cell_type": "code",
   "execution_count": 6,
   "metadata": {},
   "outputs": [
    {
     "name": "stdout",
     "output_type": "stream",
     "text": [
      "You have 12775 days, 1820 weeks, and 420 months left.\n"
     ]
    }
   ],
   "source": [
    "#How many days, weeks, months you have up to age 90\n",
    "\n",
    "yourAge = int(input('Enter your current age: '))\n",
    "\n",
    "yearLeft = (90 - yourAge)\n",
    "\n",
    "monthLeft = yearLeft * 12\n",
    "weekLeft = yearLeft * 52\n",
    "dayLeft = yearLeft * 365\n",
    "\n",
    "print(f\"You have {dayLeft} days, {weekLeft} weeks, and {monthLeft} months left.\")"
   ]
  },
  {
   "cell_type": "code",
   "execution_count": 7,
   "metadata": {},
   "outputs": [
    {
     "name": "stdout",
     "output_type": "stream",
     "text": [
      "Welcome to the tip calculator.\n",
      "Each person should pay: $47.92\n"
     ]
    }
   ],
   "source": [
    "#How much you should pay including tip\n",
    "\n",
    "print('Welcome to the tip calculator.')\n",
    "\n",
    "total_bill = float(input('What was the total bill?: $'))\n",
    "what_percentage_tip = int(input('What percentage tip would you like to give? 10, 12, or 15?: '))\n",
    "how_many_people = int(input('How many people to split the bill?: '))\n",
    "\n",
    "total_with_tip = total_bill * (100 + what_percentage_tip) / 100\n",
    "per_person = total_with_tip / how_many_people\n",
    "per_person_rounded = round(per_person, 2)\n",
    "\n",
    "print(f'Each person should pay: ${per_person_rounded}')"
   ]
  },
  {
   "cell_type": "code",
   "execution_count": 3,
   "metadata": {},
   "outputs": [
    {
     "name": "stdout",
     "output_type": "stream",
     "text": [
      "This is an even number.\n"
     ]
    }
   ],
   "source": [
    "#Is your number even or odd?\n",
    "\n",
    "number = int(input('Which number do you want to check?: '))\n",
    "\n",
    "if number % 2 == 0:\n",
    "    print('This is an even number.')\n",
    "else:\n",
    "    print('This is an odd number')    "
   ]
  },
  {
   "cell_type": "code",
   "execution_count": 5,
   "metadata": {},
   "outputs": [
    {
     "name": "stdout",
     "output_type": "stream",
     "text": [
      "You are normal weight.\n"
     ]
    }
   ],
   "source": [
    "#Are you healthy in terms of your weight?\n",
    "\n",
    "height = float(input('Enter your height in m: '))\n",
    "weight = float(input('Enter your weight in kg: '))\n",
    "\n",
    "bmi = weight / height ** 2\n",
    "\n",
    "if bmi < 18.5:\n",
    "    print('You are underweight.')\n",
    "elif bmi < 25:\n",
    "    print('You are normal weight.')\n",
    "elif bmi < 30:\n",
    "    print('You are overweight.')\n",
    "elif bmi < 35:\n",
    "    print('You are obese.')\n",
    "else:\n",
    "    print('You are clinically obese.')\n"
   ]
  },
  {
   "cell_type": "code",
   "execution_count": 8,
   "metadata": {},
   "outputs": [
    {
     "name": "stdout",
     "output_type": "stream",
     "text": [
      "This is a leap year.\n"
     ]
    }
   ],
   "source": [
    "#Finding whether a year is leap or not\n",
    "\n",
    "year = int(input('Enter a year: '))\n",
    "\n",
    "if year % 4 != 0:\n",
    "    print('This is not a leap year.')\n",
    "elif year % 400 != 0 and year % 100 == 0:\n",
    "    print('This is not a leap year.')\n",
    "else:\n",
    "    print('This is a leap year.')"
   ]
  },
  {
   "cell_type": "code",
   "execution_count": 9,
   "metadata": {},
   "outputs": [
    {
     "name": "stdout",
     "output_type": "stream",
     "text": [
      "Welcome to Python Pizza Deliveries!\n",
      "Your final bill is: $28.\n"
     ]
    }
   ],
   "source": [
    "#Python Pizza Deliveries!\n",
    "\n",
    "print('Welcome to Python Pizza Deliveries!')\n",
    "\n",
    "size = input('What size pizza do you want? S, M, or L: ')\n",
    "add_pepperoni = input('Do you want pepperoni? Y or N: ')\n",
    "extra_cheese = input('Do you want extra cheese? Y or N: ')\n",
    "\n",
    "small_pizza = 15\n",
    "medium_pizza = 20\n",
    "large_pizza = 25\n",
    "\n",
    "pepperoni_small = 2\n",
    "pepperoni_medium_and_large = 3\n",
    "\n",
    "extra_cheese = 1\n",
    "\n",
    "total_cost = 0\n",
    "\n",
    "if size == \"S\":\n",
    "    total_cost += 15\n",
    "elif size == \"M\":\n",
    "    total_cost += 20\n",
    "else:\n",
    "    total_cost += 25\n",
    "    \n",
    "if add_pepperoni == \"Y\":\n",
    "    if size == \"S\":\n",
    "        total_cost += 2\n",
    "    else:\n",
    "        total_cost += 3\n",
    "\n",
    "if extra_cheese == \"Y\":\n",
    "    total_cost += 1\n",
    "\n",
    "print(f'Your final bill is: ${total_cost}.')"
   ]
  },
  {
   "cell_type": "code",
   "execution_count": 11,
   "metadata": {},
   "outputs": [
    {
     "name": "stdout",
     "output_type": "stream",
     "text": [
      "Welcome to the Love Calculator!\n",
      "Your score is 137, you go together like coke and mentos.\n"
     ]
    }
   ],
   "source": [
    "#Love Calculator!\n",
    "\n",
    "print('Welcome to the Love Calculator!')\n",
    "name1 = input('What is your name?\\n')\n",
    "name2 = input('What is their name?\\n')\n",
    "all_names = name1 + name2\n",
    "\n",
    "for_t = all_names.lower().count(\"t\")\n",
    "for_r = all_names.lower().count('r')\n",
    "for_u = all_names.lower().count('u')\n",
    "for_e = all_names.lower().count('e')\n",
    "\n",
    "for_true = for_t + for_r + for_u + for_e\n",
    "\n",
    "for_l = all_names.lower().count(\"l\")\n",
    "for_o = all_names.lower().count('o')\n",
    "for_v = all_names.lower().count('v')\n",
    "\n",
    "for_love = for_l + for_o + for_v + for_e\n",
    "\n",
    "degree_of_love = int(str(for_true) + str(for_love))\n",
    "\n",
    "if degree_of_love <= 10 or degree_of_love >= 90:\n",
    "    print(f'Your score is {degree_of_love}, you go together like coke and mentos.')\n",
    "elif degree_of_love <= 50 or degree_of_love >= 40:\n",
    "    print(f'Your score is {degree_of_love}, you are alright together.')\n",
    "else:\n",
    "    print(f'Your score is {degree_of_love}.')"
   ]
  },
  {
   "cell_type": "code",
   "execution_count": 2,
   "metadata": {},
   "outputs": [
    {
     "name": "stdout",
     "output_type": "stream",
     "text": [
      "Welcome to the Treasure İsland. Your mission is to find the treasure!\n",
      "Congratulations, you found the treasure!\n"
     ]
    }
   ],
   "source": [
    "#Treasure Island Game!\n",
    "\n",
    "print('Welcome to the Treasure İsland. Your mission is to find the treasure!')\n",
    "\n",
    "left_or_right = input('Do you want to go left or right?: ').lower()\n",
    "\n",
    "if left_or_right == \"left\":\n",
    "    swim_or_wait = input('Do you want to swim or wait?: ').lower()\n",
    "    if swim_or_wait == \"wait\":\n",
    "        which_door = input('Which door? Blue, Red, or Yellow?: ').lower()\n",
    "        if which_door == \"yellow\":\n",
    "            print('Congratulations, you found the treasure!')\n",
    "        else:\n",
    "            print('Game over.')\n",
    "    else:\n",
    "            print('Game over.')\n",
    "else:\n",
    "            print('Game over.')"
   ]
  },
  {
   "cell_type": "code",
   "execution_count": 3,
   "metadata": {},
   "outputs": [
    {
     "name": "stdout",
     "output_type": "stream",
     "text": [
      "Tails!\n"
     ]
    }
   ],
   "source": [
    "#Heads or Tails?\n",
    "\n",
    "import random\n",
    "\n",
    "heads_or_tails = random.randint(0, 1)\n",
    "\n",
    "if heads_or_tails == 0:\n",
    "    print('Tails!')\n",
    "else:\n",
    "    print('Heads!')"
   ]
  },
  {
   "cell_type": "code",
   "execution_count": 4,
   "metadata": {},
   "outputs": [
    {
     "name": "stdout",
     "output_type": "stream",
     "text": [
      "Angela is going to pay.\n"
     ]
    }
   ],
   "source": [
    "#Who is going to pay for dinner?\n",
    "\n",
    "import random\n",
    "\n",
    "names = input('Write your names with comma. For instance: Angela, Chris. : ')\n",
    "\n",
    "list_of_names = names.split(',')\n",
    "\n",
    "random_number = random.randint(0, len(list_of_names) - 1)\n",
    "\n",
    "who_pay = list_of_names[random_number]\n",
    "\n",
    "print(f\"{who_pay} is going to pay.\")"
   ]
  },
  {
   "cell_type": "code",
   "execution_count": 5,
   "metadata": {},
   "outputs": [
    {
     "name": "stdout",
     "output_type": "stream",
     "text": [
      "['⬜️', '⬜️', '⬜️']\n",
      "['⬜️', '⬜️', '⬜️']\n",
      "['⬜️', '⬜️', '⬜️']\n",
      "['⬜️', '⬜️', '⬜️']\n",
      "['⬜️', 'X', '⬜️']\n",
      "['⬜️', '⬜️', '⬜️']\n"
     ]
    }
   ],
   "source": [
    "#Game of hiding the treasure\n",
    "\n",
    "all_rows = [['⬜️', '⬜️', '⬜️'],['⬜️', '⬜️', '⬜️'],['⬜️', '⬜️', '⬜️']]\n",
    "\n",
    "print(all_rows[0])\n",
    "print(all_rows[1])\n",
    "print(all_rows[2])\n",
    "\n",
    "treasure_place = input(\"Where do you want treasure to be? Write a 2 digit number. First digit is column and second one is row: \")\n",
    "\n",
    "all_rows[int(treasure_place[1]) - 1][int(treasure_place[0]) - 1] = \"X\"\n",
    "\n",
    "print(all_rows[0])\n",
    "print(all_rows[1])\n",
    "print(all_rows[2])"
   ]
  },
  {
   "cell_type": "code",
   "execution_count": 1,
   "metadata": {},
   "outputs": [
    {
     "name": "stdout",
     "output_type": "stream",
     "text": [
      "You did scissors\n",
      "\n",
      "    _______\n",
      "---'   ____)____\n",
      "          ______)\n",
      "       __________)\n",
      "      (____)\n",
      "---.__(___)\n",
      "\n",
      "Computer did scissors\n",
      "\n",
      "    _______\n",
      "---'   ____)____\n",
      "          ______)\n",
      "       __________)\n",
      "      (____)\n",
      "---.__(___)\n",
      "\n",
      "You both did scissors! It's a draw\n"
     ]
    }
   ],
   "source": [
    "#Rock, Paper, Scissors Game\n",
    "\n",
    "import random \n",
    "\n",
    "rock = '''\n",
    "    _______\n",
    "---'   ____)\n",
    "      (_____)\n",
    "      (_____)\n",
    "      (____)\n",
    "---.__(___)\n",
    "'''\n",
    "\n",
    "paper = '''\n",
    "    _______\n",
    "---'   ____)____\n",
    "          ______)\n",
    "          _______)\n",
    "         _______)\n",
    "---.__________)\n",
    "'''\n",
    "\n",
    "scissors = '''\n",
    "    _______\n",
    "---'   ____)____\n",
    "          ______)\n",
    "       __________)\n",
    "      (____)\n",
    "---.__(___)\n",
    "'''\n",
    "list_of_images_str = [\"rock\", \"paper\", \"scissors\"]\n",
    "list_of_images = [rock, paper, scissors]\n",
    "user_choice = int(input(\"What do you choose? Type 0 for Rock, 1 for Paper or 2 for Scissors:\\n\"))\n",
    "computer_choice = random.randint(0, 2)\n",
    "\n",
    "if (user_choice < 0) or (user_choice > 2):\n",
    "    print(\"You cheated, you lost!\")\n",
    "else:\n",
    "    print(f\"You did {list_of_images_str[user_choice]}\\n{list_of_images[user_choice]}\")\n",
    "    print(f\"Computer did {list_of_images_str[computer_choice]}\\n{list_of_images[computer_choice]}\")\n",
    "    if user_choice == computer_choice:\n",
    "        print(f\"You both did {list_of_images_str[computer_choice]}! It's a draw\")\n",
    "    elif (user_choice == 0) and (computer_choice == 2):\n",
    "        print(\"You won!\")\n",
    "    elif (computer_choice == 0) and (user_choice == 2):\n",
    "        print(\"Computer won!\")\n",
    "    elif user_choice > computer_choice:\n",
    "        print(\"You won!\")\n",
    "    else:\n",
    "        print(\"Computer won!\")\n"
   ]
  },
  {
   "cell_type": "code",
   "execution_count": 2,
   "metadata": {},
   "outputs": [
    {
     "name": "stdout",
     "output_type": "stream",
     "text": [
      "Average height of those people is: 180\n"
     ]
    }
   ],
   "source": [
    "#Calculating average height\n",
    "\n",
    "heights = input(\"Enter heights of people in cm: \")\n",
    "\n",
    "list_of_heights = heights.split()\n",
    "\n",
    "total_height = 0\n",
    "how_many_people = 0\n",
    "\n",
    "for height in list_of_heights:\n",
    "    total_height += int(height)\n",
    "    how_many_people += 1\n",
    "\n",
    "average = total_height / how_many_people\n",
    "rounded_average = round(average)\n",
    "\n",
    "print(f\"Average height of those people is: {rounded_average}\")"
   ]
  },
  {
   "cell_type": "code",
   "execution_count": 3,
   "metadata": {},
   "outputs": [
    {
     "name": "stdout",
     "output_type": "stream",
     "text": [
      "Max note of class is: 95\n"
     ]
    }
   ],
   "source": [
    "#Finding max value of a list without using max function\n",
    "\n",
    "notes = input(\"Please enter notes of students: \")\n",
    "\n",
    "list_of_notes = notes.split()\n",
    "\n",
    "max_note = 0\n",
    "\n",
    "for note in list_of_notes:\n",
    "    if int(note) >= max_note:\n",
    "        max_note = int(note)\n",
    "        \n",
    "print(f\"Max note of class is: {max_note}\")"
   ]
  },
  {
   "cell_type": "code",
   "execution_count": 4,
   "metadata": {},
   "outputs": [
    {
     "name": "stdout",
     "output_type": "stream",
     "text": [
      "Sum of even numbers is: 2550\n"
     ]
    }
   ],
   "source": [
    "#Calculating even numbers in a given range\n",
    "\n",
    "total = 0\n",
    "\n",
    "for number in range(101):\n",
    "    if number % 2 == 0:\n",
    "        total += number\n",
    "\n",
    "print(f\"Sum of even numbers is: {total}\")"
   ]
  },
  {
   "cell_type": "code",
   "execution_count": 5,
   "metadata": {},
   "outputs": [
    {
     "name": "stdout",
     "output_type": "stream",
     "text": [
      "1\n",
      "2\n",
      "Fizz\n",
      "4\n",
      "Buzz\n",
      "Fizz\n",
      "7\n",
      "8\n",
      "Fizz\n",
      "Buzz\n",
      "11\n",
      "Fizz\n",
      "13\n",
      "14\n",
      "FizzBuzz\n"
     ]
    }
   ],
   "source": [
    "#FizzBuzz Game!\n",
    "\n",
    "for i in range(1, 16):\n",
    "    if i % 15 == 0:\n",
    "        print(\"FizzBuzz\")\n",
    "    elif i % 5 == 0:\n",
    "        print(\"Buzz\")\n",
    "    elif i % 3 == 0:\n",
    "        print(\"Fizz\")\n",
    "    else:\n",
    "        print(i)"
   ]
  },
  {
   "cell_type": "code",
   "execution_count": 14,
   "metadata": {},
   "outputs": [
    {
     "name": "stdout",
     "output_type": "stream",
     "text": [
      "Welcome to the PyPassword Generator!\n",
      "Here is your password: h1pS%!%&FC8*29#"
     ]
    }
   ],
   "source": [
    "#Password Generator\n",
    "\n",
    "import random\n",
    "\n",
    "letters = ['a', 'b', 'c', 'd', 'e', 'f', 'g', 'h', 'i', 'j', 'k', 'l', 'm', 'n', 'o', 'p', 'q', 'r', 's', 't', 'u', 'v', 'w', 'x', 'y', 'z', 'A', 'B', 'C', 'D', 'E', 'F', 'G', 'H', 'I', 'J', 'K', 'L', 'M', 'N', 'O', 'P', 'Q', 'R', 'S', 'T', 'U', 'V', 'W', 'X', 'Y', 'Z']\n",
    "numbers = ['0', '1', '2', '3', '4', '5', '6', '7', '8', '9']\n",
    "symbols = ['!', '#', '$', '%', '&', '(', ')', '*', '+']\n",
    "\n",
    "print(\"Welcome to the PyPassword Generator!\")\n",
    "\n",
    "nr_letters= int(input(\"How many letters would you like in your password?\\n\")) \n",
    "nr_symbols = int(input(f\"How many symbols would you like?\\n\"))\n",
    "nr_numbers = int(input(f\"How many numbers would you like?\\n\"))\n",
    "\n",
    "password_items = []\n",
    "\n",
    "for letter in range(nr_letters):\n",
    "    password_items.append(random.choice(letters))\n",
    "for symbol in range(nr_symbols):\n",
    "    password_items.append(random.choice(numbers))\n",
    "for number in range(nr_numbers):\n",
    "    password_items.append(random.choice(symbols))\n",
    "\n",
    "random.shuffle(password_items)\n",
    "\n",
    "print(\"Here is your password: \", end = \"\")\n",
    "\n",
    "for i in password_items:\n",
    "    print(i, end = \"\")"
   ]
  },
  {
   "cell_type": "code",
   "execution_count": 7,
   "metadata": {},
   "outputs": [
    {
     "name": "stdout",
     "output_type": "stream",
     "text": [
      " \n",
      " _                                             \n",
      "| |                                            \n",
      "| |__   __ _ _ __   __ _ _ __ ___   __ _ _ __  \n",
      "| '_ \\ / _` | '_ \\ / _` | '_ ` _ \\ / _` | '_ \\ \n",
      "| | | | (_| | | | | (_| | | | | | | (_| | | | |\n",
      "|_| |_|\\__,_|_| |_|\\__, |_| |_| |_|\\__,_|_| |_|\n",
      "                    __/ |                      \n",
      "                   |___/    \n",
      "\n",
      "\n",
      "['_', '_', '_', '_', '_']\n",
      "\n",
      "Congratulations! You've guessed right!\n",
      "\n",
      "  +---+\n",
      "  |   |\n",
      "      |\n",
      "      |\n",
      "      |\n",
      "      |\n",
      "=========\n",
      "\n",
      "['a', '_', '_', '_', '_']\n",
      "\n",
      "Your letter b is not in word.\n",
      "\n",
      "  +---+\n",
      "  |   |\n",
      "  O   |\n",
      "      |\n",
      "      |\n",
      "      |\n",
      "=========\n",
      "\n",
      "['a', '_', '_', '_', '_']\n",
      "\n",
      "Your letter d is not in word.\n",
      "\n",
      "  +---+\n",
      "  |   |\n",
      "  O   |\n",
      "  |   |\n",
      "      |\n",
      "      |\n",
      "=========\n",
      "\n",
      "['a', '_', '_', '_', '_']\n",
      "\n",
      "Your letter h is not in word.\n",
      "\n",
      "  +---+\n",
      "  |   |\n",
      "  O   |\n",
      " /|   |\n",
      "      |\n",
      "      |\n",
      "=========\n",
      "['a', '_', '_', '_', '_']\n",
      "\n",
      "Your letter n is not in word.\n",
      "\n",
      "  +---+\n",
      "  |   |\n",
      "  O   |\n",
      " /|\\  |\n",
      "      |\n",
      "      |\n",
      "=========\n",
      "\n",
      "['a', '_', '_', '_', '_']\n",
      "\n",
      "Congratulations! You've guessed right!\n",
      "\n",
      "  +---+\n",
      "  |   |\n",
      "  O   |\n",
      " /|\\  |\n",
      "      |\n",
      "      |\n",
      "=========\n",
      "\n",
      "['a', '_', '_', 'i', '_']\n",
      "\n",
      "Your letter l is not in word.\n",
      "\n",
      "  +---+\n",
      "  |   |\n",
      "  O   |\n",
      " /|\\  |\n",
      " /    |\n",
      "      |\n",
      "=========\n",
      "\n",
      "['a', '_', '_', 'i', '_']\n",
      "\n",
      "Your letter u is not in word.\n",
      "\n",
      "You lost!\n",
      "\n",
      "Answer was affix\n",
      "\n",
      "  +---+\n",
      "  |   |\n",
      "  O   |\n",
      " /|\\  |\n",
      " / \\  |\n",
      "      |\n",
      "=========\n",
      "\n"
     ]
    }
   ],
   "source": [
    "#Hangman Game\n",
    "\n",
    "import random\n",
    "from turtle import clear\n",
    "import hangman_modules.hangman_words\n",
    "import hangman_modules.hangman_art\n",
    "import os\n",
    "\n",
    "clear = lambda: os.system('cls')\n",
    "\n",
    "word_list = hangman_modules.hangman_words.word_list\n",
    "stages = hangman_modules.hangman_art.stages\n",
    "\n",
    "chosen_word = random.choice(word_list)\n",
    "\n",
    "print(f\"{hangman_modules.hangman_art.logo}\\n\\n\")\n",
    "#print(f\"Chosen word is: {chosen_word}\\n\")\n",
    "\n",
    "display = []\n",
    "\n",
    "word_lenght = len(chosen_word)\n",
    "\n",
    "for letter in range(word_lenght):\n",
    "    display.append(\"_\")\n",
    "\n",
    "end_of_game = False\n",
    "\n",
    "lives = 6\n",
    "\n",
    "while end_of_game == False:\n",
    "    print(f\"{display}\\n\")\n",
    "    guess = input(\"Enter a letter: \\n\\n\").lower()\n",
    "    clear()\n",
    "    if guess in display:\n",
    "        print(f\"\\nYou've already guessed {guess}.\\n\")\n",
    "        print(stages[lives])\n",
    "    else:\n",
    "        for position in range(word_lenght):\n",
    "            letter = chosen_word[position]            \n",
    "            if letter == guess:\n",
    "                display[position] = guess\n",
    "        if guess not in display:\n",
    "            print(f\"Your letter {guess} is not in word.\")\n",
    "            lives -= 1\n",
    "            if lives == 0:\n",
    "                end_of_game = True\n",
    "                print(\"\\nYou lost!\\n\")\n",
    "                print(f\"Answer was {chosen_word}\")\n",
    "        else:\n",
    "            print(\"Congratulations! You've guessed right!\")\n",
    "        if \"_\" not in display:\n",
    "            end_of_game = True\n",
    "            print(\"\\nYou won!\")\n",
    "        print(stages[lives])"
   ]
  },
  {
   "cell_type": "code",
   "execution_count": 1,
   "metadata": {},
   "outputs": [
    {
     "name": "stdout",
     "output_type": "stream",
     "text": [
      "You'll need 10 cans of paint.\n"
     ]
    }
   ],
   "source": [
    "#Wall Painting Calculation with a Function\n",
    "\n",
    "import math\n",
    "\n",
    "def paint_calc(height, width, cover):\n",
    "    wall_size = height*width\n",
    "    num_of_cans = math.ceil(wall_size / cover)\n",
    "    print(f\"You'll need {num_of_cans} cans of paint.\")\n",
    "\n",
    "test_h = int(input(\"Height of wall: \"))\n",
    "test_w = int(input(\"Width of wall: \"))\n",
    "\n",
    "coverage = 5\n",
    "\n",
    "paint_calc(height=test_h, width=test_w, cover=coverage)"
   ]
  },
  {
   "cell_type": "code",
   "execution_count": 2,
   "metadata": {},
   "outputs": [
    {
     "name": "stdout",
     "output_type": "stream",
     "text": [
      "Yes, this number is prime!\n"
     ]
    }
   ],
   "source": [
    "#To control if a number is a prime number by writing a function.\n",
    "\n",
    "def prime_checker(number):\n",
    "\n",
    "    is_it_prime = True\n",
    "\n",
    "    for i in range(2, number):\n",
    "        if number % i == 0:\n",
    "            is_it_prime = False\n",
    "    if is_it_prime:\n",
    "        print(\"Yes, this number is prime!\")\n",
    "    else:\n",
    "        print(\"This number is not prime!\")\n",
    "\n",
    "n = int(input(\"Check this number: \"))\n",
    "\n",
    "prime_checker(number = n)"
   ]
  },
  {
   "cell_type": "code",
   "execution_count": 1,
   "metadata": {},
   "outputs": [
    {
     "name": "stdout",
     "output_type": "stream",
     "text": [
      "           \n",
      " ,adPPYba, ,adPPYYba,  ,adPPYba, ,adPPYba, ,adPPYYba, 8b,dPPYba,  \n",
      "a8\"     \"\" \"\"     `Y8 a8P_____88 I8[    \"\" \"\"     `Y8 88P'   \"Y8  \n",
      "8b         ,adPPPPP88 8PP\"  `\"Y8ba,  ,adPPPPP88 88          \n",
      "\"8a,   ,aa 88,    ,88 \"8b,   ,aa aa    ]8I 88,    ,88 88          \n",
      " `\"Ybbd8\"' `\"8bbdP\"Y8  `\"Ybbd8\"' `\"YbbdP\"' `\"8bbdP\"Y8 88   \n",
      "            88             88                                 \n",
      "           \"\"             88                                 \n",
      "                          88                                 \n",
      " ,adPPYba, 88 8b,dPPYba,  88,dPPYba,   ,adPPYba, 8b,dPPYba,  \n",
      "a8\"     \"\" 88 88P'    \"8a 88P'    \"8a a8P_____88 88P'   \"Y8  \n",
      "8b         88 88       d8 88       88 8PP\" 88          \n",
      "\"8a,   ,aa 88 88b,   ,a8\" 88       88 \"8b,   ,aa 88          \n",
      " `\"Ybbd8\"' 88 88`YbbdP\"'  88       88  `\"Ybbd8\"' 88          \n",
      "              88                                             \n",
      "              88           \n",
      "\n",
      "Your decoded text is: cd ht amdziyn\n"
     ]
    }
   ],
   "source": [
    "#Caesar Cipher (A Message Encryption System)!\n",
    "\n",
    "import modules.caesar_cipher_art\n",
    "\n",
    "print(modules.caesar_cipher_art.logo)\n",
    "\n",
    "alphabet = ['a', 'b', 'c', 'd', 'e', 'f', 'g', 'h', 'i', 'j', 'k', 'l', 'm', 'n', 'o', 'p', 'q', 'r', 's', 't', 'u', 'v', 'w', 'x', 'y', 'z', 'a', 'b', 'c', 'd', 'e', 'f', 'g', 'h', 'i', 'j', 'k', 'l', 'm', 'n', 'o', 'p', 'q', 'r', 's', 't', 'u', 'v', 'w', 'x', 'y', 'z', 'a', 'b', 'c', 'd', 'e', 'f', 'g', 'h', 'i', 'j', 'k', 'l', 'm', 'n', 'o', 'p', 'q', 'r', 's', 't', 'u', 'v', 'w', 'x', 'y', 'z', 'a', 'b', 'c', 'd', 'e', 'f', 'g', 'h', 'i', 'j', 'k', 'l', 'm', 'n', 'o', 'p', 'q', 'r', 's', 't', 'u', 'v', 'w', 'x', 'y', 'z']\n",
    "\n",
    "def caesar(plain_text, shift_amount, coding_request):\n",
    "        coded_text = \"\"\n",
    "        if coding_request == \"decode\":\n",
    "                shift_amount *= -1\n",
    "        for letter in plain_text:\n",
    "            if letter in alphabet:\n",
    "                position = alphabet.index(letter)\n",
    "                new_position = position + shift_amount\n",
    "                coded_text += alphabet[new_position]\n",
    "            else:\n",
    "                coded_text += letter\n",
    "        print(f\"Your {coding_request}d text is: {coded_text}\")\n",
    "\n",
    "should_continue = True\n",
    "\n",
    "while should_continue:\n",
    "\n",
    "    direction = input(\"Type 'encode' to encrypt, type 'decode' to decrypt:\\n\")\n",
    "    text = input(\"Type your message:\\n\").lower()\n",
    "    shift = int(input(\"Type the shift number:\\n\"))\n",
    "\n",
    "    caesar(plain_text=text, shift_amount=shift, coding_request=direction)\n",
    "    want_continue = input(\"Do you want to continue? If yes, write 'yes', or write 'no'.\\n\").lower()\n",
    "    if want_continue == \"no\":\n",
    "        should_continue = False"
   ]
  },
  {
   "cell_type": "code",
   "execution_count": 1,
   "metadata": {},
   "outputs": [
    {
     "name": "stdout",
     "output_type": "stream",
     "text": [
      "{'Harry': 'Exceeds Expectations', 'Ron': 'Acceptable', 'Hermione': 'Outstanding', 'Draco': 'Acceptable', 'Neville': 'Fail'}\n"
     ]
    }
   ],
   "source": [
    "#An exercise of changing a dictionary\n",
    "\n",
    "from re import S\n",
    "\n",
    "\n",
    "student_scores = {\n",
    "  \"Harry\": 81,\n",
    "  \"Ron\": 78,\n",
    "  \"Hermione\": 99, \n",
    "  \"Draco\": 74,\n",
    "  \"Neville\": 62,\n",
    "}\n",
    "\n",
    "student_grades = {}\n",
    "\n",
    "for student in student_scores:\n",
    "    score = student_scores[student]\n",
    "    if score > 90:\n",
    "        student_grades[student] = \"Outstanding\"\n",
    "    elif score > 80:\n",
    "        student_grades[student] = \"Exceeds Expectations\"\n",
    "    elif score > 70:\n",
    "        student_grades[student] = \"Acceptable\"\n",
    "    else:\n",
    "        student_grades[student] = \"Fail\"\n",
    "    \n",
    "print(student_grades)"
   ]
  },
  {
   "cell_type": "code",
   "execution_count": 6,
   "metadata": {},
   "outputs": [
    {
     "name": "stdout",
     "output_type": "stream",
     "text": [
      "[{'country': 'France', 'visits': 12, 'cities': ['Paris', 'Lille', 'Dijon']}, {'country': 'Germany', 'visits': 5, 'cities': ['Berlin', 'Hamburg', 'Stuttgart']}, {'country': 'Russia', 'visits': 2, 'cities': ['Moscow', 'Saint Petersburg']}]\n"
     ]
    }
   ],
   "source": [
    "#To create a list that holds information of our traveling in dictionaries.\n",
    "\n",
    "travel_log = [\n",
    "{\n",
    "  \"country\": \"France\",\n",
    "  \"visits\": 12,\n",
    "  \"cities\": [\"Paris\", \"Lille\", \"Dijon\"]\n",
    "},\n",
    "{\n",
    "  \"country\": \"Germany\",\n",
    "  \"visits\": 5,\n",
    "  \"cities\": [\"Berlin\", \"Hamburg\", \"Stuttgart\"]\n",
    "},\n",
    "]\n",
    "\n",
    "def add_new_country(country_visited, times_visited, cities_visited):\n",
    "    travel_log.append({\"country\": country_visited, \"visits\": times_visited, \"cities\": cities_visited})\n",
    "\n",
    "add_new_country(\"Russia\", 2, [\"Moscow\", \"Saint Petersburg\"])\n",
    "\n",
    "print(travel_log)"
   ]
  },
  {
   "cell_type": "code",
   "execution_count": 1,
   "metadata": {},
   "outputs": [
    {
     "name": "stdout",
     "output_type": "stream",
     "text": [
      "\n",
      "                         ___________\n",
      "                         \\         /\n",
      "                          )_______(\n",
      "                          |\"\"\"\"\"\"\"|_.-._,.---------.,_.-._\n",
      "                          |       | | |               | | ''-.\n",
      "                          |       |_| |_             _| |_..-'\n",
      "                          |_______| '-' `'---------'` '-'\n",
      "                          )\"\"\"\"\"\"\"(\n",
      "                         /_________\\\n",
      "                       .-------------.\n",
      "                      /_______________\\\n",
      "\n",
      "Welcome to the secret auction program.\n",
      "The winner is James with a bid of $750.\n"
     ]
    }
   ],
   "source": [
    "import os\n",
    "import modules.blind_auction_art\n",
    "\n",
    "clear = lambda: os.system('cls')\n",
    "\n",
    "print(modules.blind_auction_art.logo)\n",
    "print(\"Welcome to the secret auction program.\")\n",
    "\n",
    "candidates_dict = {}\n",
    "\n",
    "def find_winner(bidders_dictionary):\n",
    "    highest_bid = 0\n",
    "    winner_candidate = \"\"\n",
    "    for candidate in bidders_dictionary:\n",
    "        candidate_bid = bidders_dictionary[candidate]\n",
    "        if candidate_bid > highest_bid:\n",
    "            highest_bid = candidate_bid\n",
    "            winner_candidate = candidate\n",
    "    print(f\"The winner is {winner_candidate} with a bid of ${highest_bid}.\")\n",
    "\n",
    "def start_auction():\n",
    "    should_continue = True\n",
    "    while should_continue == True:\n",
    "        name = input(\"What is your name?: \")\n",
    "        bid = int(input(\"What is your bid?: $\"))\n",
    "        candidates_dict[name] = bid\n",
    "        other_bidders = input(\"Are there any other bidders? Type 'yes' or 'no'.\\n\")\n",
    "        clear()\n",
    "        if other_bidders == \"no\":\n",
    "            should_continue = False\n",
    "\n",
    "start_auction()\n",
    "find_winner(candidates_dict)"
   ]
  },
  {
   "cell_type": "code",
   "execution_count": 1,
   "metadata": {},
   "outputs": [
    {
     "name": "stdout",
     "output_type": "stream",
     "text": [
      "Natalie Perez\n"
     ]
    }
   ],
   "source": [
    "#Making names capitalized with a function\n",
    "\n",
    "def my_function(f_name, l_name):\n",
    "    user_name = f_name + \" \" + l_name\n",
    "    user_name = user_name.title()\n",
    "    return user_name\n",
    "\n",
    "print(my_function(\"naTaLiE\", \"PErEz\"))"
   ]
  }
 ],
 "metadata": {
  "kernelspec": {
   "display_name": "Python 3.10.5 64-bit",
   "language": "python",
   "name": "python3"
  },
  "language_info": {
   "codemirror_mode": {
    "name": "ipython",
    "version": 3
   },
   "file_extension": ".py",
   "mimetype": "text/x-python",
   "name": "python",
   "nbconvert_exporter": "python",
   "pygments_lexer": "ipython3",
   "version": "3.10.5"
  },
  "orig_nbformat": 4,
  "vscode": {
   "interpreter": {
    "hash": "de66d7802e14fb2e8694b63e255d0fe3514f0a531cbbfb87d1ecc51a74f4db4d"
   }
  }
 },
 "nbformat": 4,
 "nbformat_minor": 2
}
