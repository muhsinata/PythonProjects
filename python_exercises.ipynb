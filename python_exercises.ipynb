{
 "cells": [
  {
   "cell_type": "code",
   "execution_count": 7,
   "metadata": {},
   "outputs": [
    {
     "name": "stdout",
     "output_type": "stream",
     "text": [
      "Welcome to the Band Name Generator.\n",
      "Your band name could be Barcelona Cotton\n"
     ]
    }
   ],
   "source": [
    "#Finding a band name exercise\n",
    "\n",
    "print('Welcome to the Band Name Generator.')\n",
    "city = input(\"What's name of the city you grew up in?\\n\")\n",
    "pet_name = input(\"What's your pet's name?\\n\")\n",
    "print('Your band name could be ' + city + ' ' + pet_name)"
   ]
  },
  {
   "cell_type": "code",
   "execution_count": 2,
   "metadata": {},
   "outputs": [
    {
     "name": "stdout",
     "output_type": "stream",
     "text": [
      "8\n"
     ]
    }
   ],
   "source": [
    "#Adding up digits\n",
    "\n",
    "number = input('Please enter 2 digit number: ')\n",
    "print(int(number[0]) + int(number[1]))"
   ]
  },
  {
   "cell_type": "code",
   "execution_count": 4,
   "metadata": {},
   "outputs": [
    {
     "name": "stdout",
     "output_type": "stream",
     "text": [
      "25\n"
     ]
    }
   ],
   "source": [
    "#Calculating BMI index\n",
    "\n",
    "weight = int(input('Enter your weight: '))\n",
    "height = float(input('Enter your height: '))\n",
    "\n",
    "BMI = weight/height**2\n",
    "\n",
    "print(round(BMI))"
   ]
  },
  {
   "cell_type": "code",
   "execution_count": 6,
   "metadata": {},
   "outputs": [
    {
     "name": "stdout",
     "output_type": "stream",
     "text": [
      "You have 12775 days, 1820 weeks, and 420 months left.\n"
     ]
    }
   ],
   "source": [
    "#How many days, weeks, months you have up to age 90\n",
    "\n",
    "yourAge = int(input('Enter your current age: '))\n",
    "\n",
    "yearLeft = (90 - yourAge)\n",
    "\n",
    "monthLeft = yearLeft * 12\n",
    "weekLeft = yearLeft * 52\n",
    "dayLeft = yearLeft * 365\n",
    "\n",
    "print(f\"You have {dayLeft} days, {weekLeft} weeks, and {monthLeft} months left.\")"
   ]
  },
  {
   "cell_type": "code",
   "execution_count": 7,
   "metadata": {},
   "outputs": [
    {
     "name": "stdout",
     "output_type": "stream",
     "text": [
      "Welcome to the tip calculator.\n",
      "Each person should pay: $47.92\n"
     ]
    }
   ],
   "source": [
    "#How much you should pay including tip\n",
    "\n",
    "print('Welcome to the tip calculator.')\n",
    "\n",
    "total_bill = float(input('What was the total bill?: $'))\n",
    "what_percentage_tip = int(input('What percentage tip would you like to give? 10, 12, or 15?: '))\n",
    "how_many_people = int(input('How many people to split the bill?: '))\n",
    "\n",
    "total_with_tip = total_bill * (100 + what_percentage_tip) / 100\n",
    "per_person = total_with_tip / how_many_people\n",
    "per_person_rounded = round(per_person, 2)\n",
    "\n",
    "print(f'Each person should pay: ${per_person_rounded}')"
   ]
  },
  {
   "cell_type": "code",
   "execution_count": 3,
   "metadata": {},
   "outputs": [
    {
     "name": "stdout",
     "output_type": "stream",
     "text": [
      "This is an even number.\n"
     ]
    }
   ],
   "source": [
    "#Is your number even or odd?\n",
    "\n",
    "number = int(input('Which number do you want to check?: '))\n",
    "\n",
    "if number % 2 == 0:\n",
    "    print('This is an even number.')\n",
    "else:\n",
    "    print('This is an odd number')    "
   ]
  },
  {
   "cell_type": "code",
   "execution_count": 5,
   "metadata": {},
   "outputs": [
    {
     "name": "stdout",
     "output_type": "stream",
     "text": [
      "You are normal weight.\n"
     ]
    }
   ],
   "source": [
    "#Are you healthy in terms of your weight?\n",
    "\n",
    "height = float(input('Enter your height in m: '))\n",
    "weight = float(input('Enter your weight in kg: '))\n",
    "\n",
    "bmi = weight / height ** 2\n",
    "\n",
    "if bmi < 18.5:\n",
    "    print('You are underweight.')\n",
    "elif bmi < 25:\n",
    "    print('You are normal weight.')\n",
    "elif bmi < 30:\n",
    "    print('You are overweight.')\n",
    "elif bmi < 35:\n",
    "    print('You are obese.')\n",
    "else:\n",
    "    print('You are clinically obese.')\n"
   ]
  },
  {
   "cell_type": "code",
   "execution_count": 8,
   "metadata": {},
   "outputs": [
    {
     "name": "stdout",
     "output_type": "stream",
     "text": [
      "This is a leap year.\n"
     ]
    }
   ],
   "source": [
    "#Finding whether a year is leap or not\n",
    "\n",
    "year = int(input('Enter a year: '))\n",
    "\n",
    "if year % 4 != 0:\n",
    "    print('This is not a leap year.')\n",
    "elif year % 400 != 0 and year % 100 == 0:\n",
    "    print('This is not a leap year.')\n",
    "else:\n",
    "    print('This is a leap year.')"
   ]
  },
  {
   "cell_type": "code",
   "execution_count": 9,
   "metadata": {},
   "outputs": [
    {
     "name": "stdout",
     "output_type": "stream",
     "text": [
      "Welcome to Python Pizza Deliveries!\n",
      "Your final bill is: $28.\n"
     ]
    }
   ],
   "source": [
    "#Python Pizza Deliveries!\n",
    "\n",
    "print('Welcome to Python Pizza Deliveries!')\n",
    "\n",
    "size = input('What size pizza do you want? S, M, or L: ')\n",
    "add_pepperoni = input('Do you want pepperoni? Y or N: ')\n",
    "extra_cheese = input('Do you want extra cheese? Y or N: ')\n",
    "\n",
    "small_pizza = 15\n",
    "medium_pizza = 20\n",
    "large_pizza = 25\n",
    "\n",
    "pepperoni_small = 2\n",
    "pepperoni_medium_and_large = 3\n",
    "\n",
    "extra_cheese = 1\n",
    "\n",
    "total_cost = 0\n",
    "\n",
    "if size == \"S\":\n",
    "    total_cost += 15\n",
    "elif size == \"M\":\n",
    "    total_cost += 20\n",
    "else:\n",
    "    total_cost += 25\n",
    "    \n",
    "if add_pepperoni == \"Y\":\n",
    "    if size == \"S\":\n",
    "        total_cost += 2\n",
    "    else:\n",
    "        total_cost += 3\n",
    "\n",
    "if extra_cheese == \"Y\":\n",
    "    total_cost += 1\n",
    "\n",
    "print(f'Your final bill is: ${total_cost}.')"
   ]
  },
  {
   "cell_type": "code",
   "execution_count": 11,
   "metadata": {},
   "outputs": [
    {
     "name": "stdout",
     "output_type": "stream",
     "text": [
      "Welcome to the Love Calculator!\n",
      "Your score is 137, you go together like coke and mentos.\n"
     ]
    }
   ],
   "source": [
    "#Love Calculator!\n",
    "\n",
    "print('Welcome to the Love Calculator!')\n",
    "name1 = input('What is your name?\\n')\n",
    "name2 = input('What is their name?\\n')\n",
    "all_names = name1 + name2\n",
    "\n",
    "for_t = all_names.lower().count(\"t\")\n",
    "for_r = all_names.lower().count('r')\n",
    "for_u = all_names.lower().count('u')\n",
    "for_e = all_names.lower().count('e')\n",
    "\n",
    "for_true = for_t + for_r + for_u + for_e\n",
    "\n",
    "for_l = all_names.lower().count(\"l\")\n",
    "for_o = all_names.lower().count('o')\n",
    "for_v = all_names.lower().count('v')\n",
    "\n",
    "for_love = for_l + for_o + for_v + for_e\n",
    "\n",
    "degree_of_love = int(str(for_true) + str(for_love))\n",
    "\n",
    "if degree_of_love <= 10 or degree_of_love >= 90:\n",
    "    print(f'Your score is {degree_of_love}, you go together like coke and mentos.')\n",
    "elif degree_of_love <= 50 or degree_of_love >= 40:\n",
    "    print(f'Your score is {degree_of_love}, you are alright together.')\n",
    "else:\n",
    "    print(f'Your score is {degree_of_love}.')"
   ]
  },
  {
   "cell_type": "code",
   "execution_count": 2,
   "metadata": {},
   "outputs": [
    {
     "name": "stdout",
     "output_type": "stream",
     "text": [
      "Welcome to the Treasure İsland. Your mission is to find the treasure!\n",
      "Congratulations, you found the treasure!\n"
     ]
    }
   ],
   "source": [
    "#Treasure Island Game!\n",
    "\n",
    "print('Welcome to the Treasure İsland. Your mission is to find the treasure!')\n",
    "\n",
    "left_or_right = input('Do you want to go left or right?: ').lower()\n",
    "\n",
    "if left_or_right == \"left\":\n",
    "    swim_or_wait = input('Do you want to swim or wait?: ').lower()\n",
    "    if swim_or_wait == \"wait\":\n",
    "        which_door = input('Which door? Blue, Red, or Yellow?: ').lower()\n",
    "        if which_door == \"yellow\":\n",
    "            print('Congratulations, you found the treasure!')\n",
    "        else:\n",
    "            print('Game over.')\n",
    "    else:\n",
    "            print('Game over.')\n",
    "else:\n",
    "            print('Game over.')"
   ]
  }
 ],
 "metadata": {
  "kernelspec": {
   "display_name": "Python 3.10.5 64-bit",
   "language": "python",
   "name": "python3"
  },
  "language_info": {
   "codemirror_mode": {
    "name": "ipython",
    "version": 3
   },
   "file_extension": ".py",
   "mimetype": "text/x-python",
   "name": "python",
   "nbconvert_exporter": "python",
   "pygments_lexer": "ipython3",
   "version": "3.10.5"
  },
  "orig_nbformat": 4,
  "vscode": {
   "interpreter": {
    "hash": "de66d7802e14fb2e8694b63e255d0fe3514f0a531cbbfb87d1ecc51a74f4db4d"
   }
  }
 },
 "nbformat": 4,
 "nbformat_minor": 2
}
