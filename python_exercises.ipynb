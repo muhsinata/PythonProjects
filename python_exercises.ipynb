{
 "cells": [
  {
   "cell_type": "code",
   "execution_count": 1,
   "metadata": {},
   "outputs": [
    {
     "name": "stdout",
     "output_type": "stream",
     "text": [
      "Welcome to the Band Name Generator.\n",
      "Your band name could be Barcelona Cotton\n"
     ]
    }
   ],
   "source": [
    "print('Welcome to the Band Name Generator.')\n",
    "city = input(\"What's name of the city you grew up in?\\n\")\n",
    "pet_name = input(\"What's your pet's name?\\n\")\n",
    "print('Your band name could be ' + city + ' ' + pet_name)"
   ]
  },
  {
   "cell_type": "code",
   "execution_count": 2,
   "metadata": {},
   "outputs": [
    {
     "name": "stdout",
     "output_type": "stream",
     "text": [
      "8\n"
     ]
    }
   ],
   "source": [
    "number = input('Please enter 2 digit number: ')\n",
    "print(int(number[0]) + int(number[1]))"
   ]
  },
  {
   "cell_type": "code",
   "execution_count": 4,
   "metadata": {},
   "outputs": [
    {
     "name": "stdout",
     "output_type": "stream",
     "text": [
      "25\n"
     ]
    }
   ],
   "source": [
    "weight = int(input('Enter your weight: '))\n",
    "height = float(input('Enter your height: '))\n",
    "\n",
    "BMI = weight/height**2\n",
    "\n",
    "print(round(BMI))"
   ]
  },
  {
   "cell_type": "code",
   "execution_count": 6,
   "metadata": {},
   "outputs": [
    {
     "name": "stdout",
     "output_type": "stream",
     "text": [
      "You have 12775 days, 1820 weeks, and 420 months left.\n"
     ]
    }
   ],
   "source": [
    "yourAge = int(input('Enter your current age: '))\n",
    "\n",
    "yearLeft = (90 - yourAge)\n",
    "\n",
    "monthLeft = yearLeft * 12\n",
    "weekLeft = yearLeft * 52\n",
    "dayLeft = yearLeft * 365\n",
    "\n",
    "print(f\"You have {dayLeft} days, {weekLeft} weeks, and {monthLeft} months left.\")"
   ]
  },
  {
   "cell_type": "code",
   "execution_count": 7,
   "metadata": {},
   "outputs": [
    {
     "name": "stdout",
     "output_type": "stream",
     "text": [
      "Welcome to the tip calculator.\n",
      "Each person should pay: $47.92\n"
     ]
    }
   ],
   "source": [
    "print('Welcome to the tip calculator.')\n",
    "\n",
    "total_bill = float(input('What was the total bill?: $'))\n",
    "what_percentage_tip = int(input('What percentage tip would you like to give? 10, 12, or 15?: '))\n",
    "how_many_people = int(input('How many people to split the bill?: '))\n",
    "\n",
    "total_with_tip = total_bill * (100 + what_percentage_tip) / 100\n",
    "per_person = total_with_tip / how_many_people\n",
    "per_person_rounded = round(per_person, 2)\n",
    "\n",
    "print(f'Each person should pay: ${per_person_rounded}')"
   ]
  }
 ],
 "metadata": {
  "kernelspec": {
   "display_name": "Python 3.10.5 64-bit",
   "language": "python",
   "name": "python3"
  },
  "language_info": {
   "codemirror_mode": {
    "name": "ipython",
    "version": 3
   },
   "file_extension": ".py",
   "mimetype": "text/x-python",
   "name": "python",
   "nbconvert_exporter": "python",
   "pygments_lexer": "ipython3",
   "version": "3.10.5"
  },
  "orig_nbformat": 4,
  "vscode": {
   "interpreter": {
    "hash": "de66d7802e14fb2e8694b63e255d0fe3514f0a531cbbfb87d1ecc51a74f4db4d"
   }
  }
 },
 "nbformat": 4,
 "nbformat_minor": 2
}
